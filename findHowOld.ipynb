{
 "cells": [
  {
   "cell_type": "markdown",
   "metadata": {},
   "source": [
    "# Find how old r u"
   ]
  },
  {
   "cell_type": "code",
   "execution_count": 1,
   "metadata": {},
   "outputs": [
    {
     "name": "stdout",
     "output_type": "stream",
     "text": [
      "True\n"
     ]
    }
   ],
   "source": [
    "def isleapyear(year):\n",
    "    '''\n",
    "    Check if the input is a leap year or not\n",
    "    '''\n",
    "    if year%400 == 0:\n",
    "        return True\n",
    "    if year%100 == 0:\n",
    "        return False\n",
    "    if year%4 == 0:\n",
    "        return True\n",
    "\n",
    "    return False\n",
    "\n",
    "print (isleapyear(2004))"
   ]
  },
  {
   "cell_type": "code",
   "execution_count": 4,
   "metadata": {},
   "outputs": [],
   "source": [
    "def dayinMo(month, year): # Define days in each month\n",
    "    if isleapyear(year):\n",
    "        daysinMo = [31,29,31,30,31,30,31,31,30,31,30,31]\n",
    "    else:\n",
    "        daysinMo = [31,28,31,30,31,30,31,31,30,31,30,31]\n",
    "    \n",
    "    return daysinMo[month-1]  "
   ]
  },
  {
   "cell_type": "code",
   "execution_count": 5,
   "metadata": {},
   "outputs": [],
   "source": [
    "def checkinput(day1, month1, year1, day2, month2, year2): # check if the input is valid\n",
    "    if day1 > dayinMo(month1,year1) or day2 > dayinMo(month2,year2):\n",
    "        print('Input ERR: invalid days in month!')"
   ]
  },
  {
   "cell_type": "code",
   "execution_count": 6,
   "metadata": {},
   "outputs": [],
   "source": [
    "def nextday(day, month, year):\n",
    "    nex= [0,0,0]\n",
    "    if day < dayinMo(month, year):\n",
    "        nex = [day+1, month, year]\n",
    "    elif month < 12:\n",
    "        nex = [1, month+1, year]\n",
    "    else:\n",
    "        nex = [1,1, year+1]\n",
    "    return nex"
   ]
  },
  {
   "cell_type": "code",
   "execution_count": 7,
   "metadata": {},
   "outputs": [],
   "source": [
    "def isnextday(day1, month1, year1, day2, month2, year2): # check if day2/mo2/yr2 is after day1/mo1/yr1\n",
    "    if year2 > year1:\n",
    "        return True\n",
    "    elif year2 == year1:\n",
    "        if month2 > month1:\n",
    "            return True\n",
    "        elif month2 == month1:\n",
    "            return day2 >= day1\n",
    "        else:\n",
    "            return False\n",
    "        \n",
    "    else:\n",
    "        return False"
   ]
  },
  {
   "cell_type": "code",
   "execution_count": 19,
   "metadata": {},
   "outputs": [
    {
     "name": "stdout",
     "output_type": "stream",
     "text": [
      "394\n"
     ]
    }
   ],
   "source": [
    "def finddays(day1, month1, year1, day2, month2, year2): \n",
    "    '''\n",
    "    given birth day as day1/mo1/yr1 \n",
    "    and today's date day2/mo2/yr2, \n",
    "    calculate the age in days.\n",
    "    '''\n",
    "    checkinput(day1, month1, year1, day2, month2, year2)\n",
    "    DAY = -1\n",
    "    while isnextday(day1, month1, year1, day2, month2, year2):\n",
    "        [day1, month1, year1] = nextday(day1, month1, year1)\n",
    "        DAY += 1\n",
    "    return DAY\n",
    "\n",
    "print (finddays(1, 2, 2012, 1, 3, 2013))"
   ]
  }
 ],
 "metadata": {
  "kernelspec": {
   "display_name": "Python 3",
   "language": "python",
   "name": "python3"
  },
  "language_info": {
   "codemirror_mode": {
    "name": "ipython",
    "version": 3
   },
   "file_extension": ".py",
   "mimetype": "text/x-python",
   "name": "python",
   "nbconvert_exporter": "python",
   "pygments_lexer": "ipython3",
   "version": "3.6.5"
  }
 },
 "nbformat": 4,
 "nbformat_minor": 2
}
